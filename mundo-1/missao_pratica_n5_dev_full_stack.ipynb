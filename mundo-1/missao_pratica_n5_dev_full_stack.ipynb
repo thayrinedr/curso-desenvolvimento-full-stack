{
  "cells": [
    {
      "cell_type": "markdown",
      "metadata": {
        "id": "gWogSqqMwc2M"
      },
      "source": [
        "![logo-estacio.jpg](data:image/jpeg;base64,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)\n",
        "\n",
        "**Campus:** Estácio \n",
        "\n",
        "**Curso:** Desenvolvimento Full Stack\n",
        "\n",
        "**Disciplina:** Colocando tudo em ordem e guardando\n",
        "\n",
        "**Turma:** 2022.2\n",
        "\n",
        "**Semestre Letivo:** 1\n",
        "\n",
        "**Título da Prática:** Implementar um programa para manipular dados de um arquivo texto e visualizá-los em um histograma e nuvem de palavras.\n",
        "\n",
        "**Objetivo da Prática:** Implementar um programa para gerar dados com nomes de pessoas e respectivas pontuações, gravar em um arquivo, recuperar os dados do arquivo, visualizar os dados das pontuações das pessoas em um histograma e em uma nuvem de palavras."
      ]
    },
    {
      "cell_type": "markdown",
      "metadata": {
        "id": "zNtYpSb3PeGU"
      },
      "source": [
        "**Aluno:** Thayrine Damasceno Rodrigues\n",
        "\n",
        "**GitHub:** https://github.com/thayrinedr\n",
        "\n",
        "**LinkedIn:** https://www.linkedin.com/in/thayrinedr/"
      ]
    },
    {
      "cell_type": "markdown",
      "metadata": {
        "id": "p56v8n_YHV-Y"
      },
      "source": [
        "# 1 Descrição\n",
        "\n",
        "Algoritmo para manipular dados de um arquivo texto e visualizá-los em um histograma e nuvem de palavras."
      ]
    },
    {
      "cell_type": "markdown",
      "metadata": {
        "id": "sCG0fXAbeCd6"
      },
      "source": [
        "# 2 Instalar e importar pacotes"
      ]
    },
    {
      "cell_type": "code",
      "execution_count": 102,
      "metadata": {
        "colab": {
          "base_uri": "https://localhost:8080/"
        },
        "id": "_o-MhKWEeiyZ",
        "outputId": "9b522833-0f58-4b6e-f027-f779cf9876fc"
      },
      "outputs": [
        {
          "name": "stdout",
          "output_type": "stream",
          "text": [
            "Looking in indexes: https://pypi.org/simple, https://us-python.pkg.dev/colab-wheels/public/simple/\n",
            "Requirement already satisfied: faker in /usr/local/lib/python3.7/dist-packages (14.1.0)\n",
            "Requirement already satisfied: typing-extensions>=3.10.0.2 in /usr/local/lib/python3.7/dist-packages (from faker) (4.1.1)\n",
            "Requirement already satisfied: python-dateutil>=2.4 in /usr/local/lib/python3.7/dist-packages (from faker) (2.8.2)\n",
            "Requirement already satisfied: six>=1.5 in /usr/local/lib/python3.7/dist-packages (from python-dateutil>=2.4->faker) (1.15.0)\n"
          ]
        }
      ],
      "source": [
        "!pip install faker"
      ]
    },
    {
      "cell_type": "code",
      "execution_count": 103,
      "metadata": {
        "colab": {
          "base_uri": "https://localhost:8080/"
        },
        "id": "xagsMIZlem0Y",
        "outputId": "055c3e00-2ded-44fe-e26b-c7c027d70217"
      },
      "outputs": [
        {
          "name": "stdout",
          "output_type": "stream",
          "text": [
            "Looking in indexes: https://pypi.org/simple, https://us-python.pkg.dev/colab-wheels/public/simple/\n",
            "Requirement already satisfied: wordcloud in /usr/local/lib/python3.7/dist-packages (1.8.2.2)\n",
            "Requirement already satisfied: pillow in /usr/local/lib/python3.7/dist-packages (from wordcloud) (7.1.2)\n",
            "Requirement already satisfied: matplotlib in /usr/local/lib/python3.7/dist-packages (from wordcloud) (3.2.2)\n",
            "Requirement already satisfied: numpy>=1.6.1 in /usr/local/lib/python3.7/dist-packages (from wordcloud) (1.21.6)\n",
            "Requirement already satisfied: cycler>=0.10 in /usr/local/lib/python3.7/dist-packages (from matplotlib->wordcloud) (0.11.0)\n",
            "Requirement already satisfied: kiwisolver>=1.0.1 in /usr/local/lib/python3.7/dist-packages (from matplotlib->wordcloud) (1.4.4)\n",
            "Requirement already satisfied: python-dateutil>=2.1 in /usr/local/lib/python3.7/dist-packages (from matplotlib->wordcloud) (2.8.2)\n",
            "Requirement already satisfied: pyparsing!=2.0.4,!=2.1.2,!=2.1.6,>=2.0.1 in /usr/local/lib/python3.7/dist-packages (from matplotlib->wordcloud) (3.0.9)\n",
            "Requirement already satisfied: typing-extensions in /usr/local/lib/python3.7/dist-packages (from kiwisolver>=1.0.1->matplotlib->wordcloud) (4.1.1)\n",
            "Requirement already satisfied: six>=1.5 in /usr/local/lib/python3.7/dist-packages (from python-dateutil>=2.1->matplotlib->wordcloud) (1.15.0)\n"
          ]
        }
      ],
      "source": [
        "!pip install wordcloud"
      ]
    },
    {
      "cell_type": "code",
      "execution_count": 104,
      "metadata": {
        "id": "FYjlI-oXewOy"
      },
      "outputs": [],
      "source": [
        "from faker import Faker\n",
        "from wordcloud import WordCloud\n",
        "import matplotlib.pyplot as plt"
      ]
    },
    {
      "cell_type": "markdown",
      "metadata": {
        "id": "xpuFtmu1fPjl"
      },
      "source": [
        "# 3 Gerar dados de testes"
      ]
    },
    {
      "cell_type": "code",
      "execution_count": 105,
      "metadata": {
        "id": "lWn7UojPhAiQ"
      },
      "outputs": [],
      "source": [
        "fake = Faker('pt_BR')"
      ]
    },
    {
      "cell_type": "code",
      "execution_count": 106,
      "metadata": {
        "id": "Pu8NOmm3hWRh"
      },
      "outputs": [],
      "source": [
        "dados_teste = []\n",
        "total_pessoas = 20\n",
        "\n",
        "for i in range(total_pessoas):\n",
        "  pessoa = {\n",
        "      'nome': fake.name(),\n",
        "      'nota': fake.random_int(min=0, max=10)\n",
        "  }\n",
        "  dados_teste.append(pessoa)"
      ]
    },
    {
      "cell_type": "code",
      "execution_count": 107,
      "metadata": {
        "colab": {
          "base_uri": "https://localhost:8080/"
        },
        "id": "hApjWiArkzhd",
        "outputId": "006157f4-f901-4182-a685-cae94e86da55"
      },
      "outputs": [
        {
          "name": "stdout",
          "output_type": "stream",
          "text": [
            "[{'nome': 'Maysa Farias', 'nota': 1}, {'nome': 'Helena Costa', 'nota': 9}, {'nome': 'Maria Fernanda da Costa', 'nota': 2}, {'nome': 'Antônio Gonçalves', 'nota': 9}, {'nome': 'Isabelly Teixeira', 'nota': 4}, {'nome': 'Vitor Gabriel Caldeira', 'nota': 9}, {'nome': 'Maria Clara Rodrigues', 'nota': 4}, {'nome': 'Sr. Antônio Cavalcanti', 'nota': 7}, {'nome': 'Dra. Caroline Barros', 'nota': 6}, {'nome': 'Pietra Oliveira', 'nota': 7}, {'nome': 'Luiza Freitas', 'nota': 5}, {'nome': 'Rodrigo Melo', 'nota': 7}, {'nome': 'Maria Clara da Rocha', 'nota': 3}, {'nome': 'Dra. Júlia Moreira', 'nota': 2}, {'nome': 'Marcela da Rosa', 'nota': 2}, {'nome': 'Clarice Nascimento', 'nota': 4}, {'nome': 'Pedro Miguel Rocha', 'nota': 7}, {'nome': 'Vicente Campos', 'nota': 10}, {'nome': 'Davi Lucas Rezende', 'nota': 4}, {'nome': 'Dr. Noah Rocha', 'nota': 9}]\n"
          ]
        }
      ],
      "source": [
        "print(dados_teste)"
      ]
    },
    {
      "cell_type": "markdown",
      "metadata": {
        "id": "e0AQiO-0lwTN"
      },
      "source": [
        "# 4 Gravar e recuperar dados de arquivos textos"
      ]
    },
    {
      "cell_type": "markdown",
      "metadata": {
        "id": "5SiwZ-2_rU4j"
      },
      "source": [
        "## Escrevendo um arquivo"
      ]
    },
    {
      "cell_type": "code",
      "execution_count": 108,
      "metadata": {
        "id": "qfWLM4LsrVKp"
      },
      "outputs": [],
      "source": [
        "# criando arquivo com permissão de escrita utilizando o argumento 'w'\n",
        "arquivo_teste = open('arquivo-teste.txt','w+')"
      ]
    },
    {
      "cell_type": "code",
      "execution_count": 109,
      "metadata": {
        "id": "FF22cP-RrzPD"
      },
      "outputs": [],
      "source": [
        "# escreve no arquivo 'arquivo-teste.txt', que está aberto\n",
        "for pessoa in dados_teste:\n",
        "    linha = f\"{pessoa['nome']},{pessoa['nota']}\\n\"\n",
        "    arquivo_teste.write(linha)\n"
      ]
    },
    {
      "cell_type": "code",
      "execution_count": 110,
      "metadata": {
        "id": "R5fEwQMMrrdn"
      },
      "outputs": [],
      "source": [
        "# fecha o arquivo\n",
        "arquivo_teste.close()"
      ]
    },
    {
      "cell_type": "markdown",
      "metadata": {
        "id": "VivTpGXaywCt"
      },
      "source": [
        "## Recuperando dados a partir de um arquivo de texto"
      ]
    },
    {
      "cell_type": "code",
      "execution_count": 111,
      "metadata": {
        "id": "AUcNmjsrszB4"
      },
      "outputs": [],
      "source": [
        "nomes = []\n",
        "notas = []\n",
        "\n",
        "for linha in open('arquivo-teste.txt'):\n",
        "    nome, nota = linha.split(sep=',')\n",
        "\n",
        "    nomes.append(nome)\n",
        "    notas.append(int(nota))"
      ]
    },
    {
      "cell_type": "code",
      "execution_count": 113,
      "metadata": {
        "colab": {
          "base_uri": "https://localhost:8080/"
        },
        "id": "UgXAt8zuzCzk",
        "outputId": "dd6fdcba-9a55-4c5e-9c9e-8b5dfb7b42b1"
      },
      "outputs": [
        {
          "name": "stdout",
          "output_type": "stream",
          "text": [
            "['Maysa Farias', 'Helena Costa', 'Maria Fernanda da Costa', 'Antônio Gonçalves', 'Isabelly Teixeira', 'Vitor Gabriel Caldeira', 'Maria Clara Rodrigues', 'Sr. Antônio Cavalcanti', 'Dra. Caroline Barros', 'Pietra Oliveira', 'Luiza Freitas', 'Rodrigo Melo', 'Maria Clara da Rocha', 'Dra. Júlia Moreira', 'Marcela da Rosa', 'Clarice Nascimento', 'Pedro Miguel Rocha', 'Vicente Campos', 'Davi Lucas Rezende', 'Dr. Noah Rocha']\n",
            "[1, 9, 2, 9, 4, 9, 4, 7, 6, 7, 5, 7, 3, 2, 2, 4, 7, 10, 4, 9]\n"
          ]
        }
      ],
      "source": [
        "# imprime na tela as listas de nomes e notas recuperadas a partir do arquivo\n",
        "print(nomes)\n",
        "print(notas)"
      ]
    },
    {
      "cell_type": "markdown",
      "metadata": {
        "id": "LkHKyqfTyGP0"
      },
      "source": [
        "# 5 Manipular os dados para visualizá-los em um histograma"
      ]
    },
    {
      "cell_type": "code",
      "execution_count": 115,
      "metadata": {
        "colab": {
          "base_uri": "https://localhost:8080/",
          "height": 295
        },
        "id": "swwirVNLyKEZ",
        "outputId": "45abbfa0-0a90-480a-89a1-b4aa0e43409c"
      },
      "outputs": [
        {
          "data": {
            "image/png": "[encoded data removed]",
            "text/plain": [
              "<Figure size 432x288 with 1 Axes>"
            ]
          },
          "metadata": {
            "needs_background": "light"
          },
          "output_type": "display_data"
        }
      ],
      "source": [
        "plt.hist(x=notas, bins=11, facecolor='blue', alpha=0.75, rwidth=0.95)\n",
        "plt.xlabel('Pontuações')\n",
        "plt.ylabel('Probabilidade')\n",
        "plt.title('Histograma das Pontuações')\n",
        "plt.show()"
      ]
    },
    {
      "cell_type": "markdown",
      "metadata": {
        "id": "Gf2HqeP2-6vE"
      },
      "source": [
        "# 6 Manipular os dados para visualizá-los em uma nuvem de palavras"
      ]
    },
    {
      "cell_type": "code",
      "execution_count": 116,
      "metadata": {
        "id": "fA6_AXQ2-_G3"
      },
      "outputs": [],
      "source": [
        "numeros_por_extenso = {\n",
        "    0: 'zero',\n",
        "    1: 'um',\n",
        "    2: 'dois',\n",
        "    3: 'três',\n",
        "    4: 'quatro',\n",
        "    5: 'cinco',\n",
        "    6: 'seis',\n",
        "    7: 'sete',\n",
        "    8: 'oito',\n",
        "    9: 'nove',\n",
        "    10: 'dez'\n",
        "}"
      ]
    },
    {
      "cell_type": "code",
      "execution_count": 118,
      "metadata": {
        "colab": {
          "base_uri": "https://localhost:8080/"
        },
        "id": "ONyUXM05GSTD",
        "outputId": "e9f882a9-c287-48f7-a8a9-963f0aa172bb"
      },
      "outputs": [
        {
          "name": "stdout",
          "output_type": "stream",
          "text": [
            "['um', 'nove', 'dois', 'nove', 'quatro', 'nove', 'quatro', 'sete', 'seis', 'sete', 'cinco', 'sete', 'três', 'dois', 'dois', 'quatro', 'sete', 'dez', 'quatro', 'nove']\n"
          ]
        }
      ],
      "source": [
        "notas_por_extenso = []\n",
        "\n",
        "for nota in notas:\n",
        "    nota_por_extenso = numeros_por_extenso[nota]\n",
        "    notas_por_extenso.append(nota_por_extenso)\n",
        "\n",
        "print(notas_por_extenso)"
      ]
    },
    {
      "cell_type": "code",
      "execution_count": 119,
      "metadata": {
        "colab": {
          "base_uri": "https://localhost:8080/"
        },
        "id": "k6gkCz_CIkFp",
        "outputId": "1c1fdf16-f5f9-42cd-848f-3ae607926ccf"
      },
      "outputs": [
        {
          "name": "stdout",
          "output_type": "stream",
          "text": [
            "um,nove,dois,nove,quatro,nove,quatro,sete,seis,sete,cinco,sete,três,dois,dois,quatro,sete,dez,quatro,nove\n"
          ]
        }
      ],
      "source": [
        "entrada_nuvem_palavras = ','.join(notas_por_extenso)\n",
        "print(entrada_nuvem_palavras)"
      ]
    },
    {
      "cell_type": "code",
      "execution_count": 120,
      "metadata": {
        "colab": {
          "base_uri": "https://localhost:8080/",
          "height": 215
        },
        "id": "j13rd7WJIWN5",
        "outputId": "7ac9890f-90ca-4186-89d9-15b52714254e"
      },
      "outputs": [
        {
          "data": {
            "text/plain": [
              "<wordcloud.wordcloud.WordCloud at 0x7f250d54f5d0>"
            ]
          },
          "execution_count": 120,
          "metadata": {},
          "output_type": "execute_result"
        },
        {
          "data": {
            "image/png": "[encoded data removed]",
            "text/plain": [
              "<Figure size 432x288 with 1 Axes>"
            ]
          },
          "metadata": {
            "needs_background": "light"
          },
          "output_type": "display_data"
        }
      ],
      "source": [
        "nuvem_palavras = WordCloud(background_color='grey',\n",
        "                           width=800, height=400).generate(entrada_nuvem_palavras)\n",
        "\n",
        "plt.imshow(nuvem_palavras, interpolation='bilinear')\n",
        "plt.axis(\"off\")\n",
        "nuvem_palavras.to_file('nuvem-de-palavras.png')"
      ]
    },
    {
      "cell_type": "markdown",
      "metadata": {
        "id": "ZJZe1w94VnWT"
      },
      "source": [
        "# 7 Análise e conclusão\n",
        "\n",
        "**a) Qual a importância de manipular arquivos de texto?**\n",
        "\n",
        "É importante saber manipular arquivos de texto porque em muitas situações do desenvolviemnto de software teremos que lidar com o acesso e escrita de dados em arquivos.\n",
        "\n",
        "**b) Qual a importância de visualizar os dados em um histograma?**\n",
        "\n",
        "É importante visualizar os dados de forma gráfica em um histograma porque nos permite entender como os dados estão distribuídos.\n",
        "\n",
        "**c) O que significa a visualização por nuvem de palavras?**\n",
        "\n",
        "Nuvem de palavras é uma lista de palavras hierarquizada visualmente, onde o tamanho da fonte de cada palavra é proprorcional a sua frequência de ocorrência."
      ]
    }
  ],
  "metadata": {
    "colab": {
      "name": "missao-pratica-n5-dev-full-stack.ipynb",
      "provenance": []
    },
    "kernelspec": {
      "display_name": "Python 3.10.4 64-bit",
      "language": "python",
      "name": "python3"
    },
    "language_info": {
      "name": "python",
      "version": "3.10.4"
    },
    "vscode": {
      "interpreter": {
        "hash": "916dbcbb3f70747c44a77c7bcd40155683ae19c65e1c03b4aa3499c5328201f1"
      }
    }
  },
  "nbformat": 4,
  "nbformat_minor": 0
}
