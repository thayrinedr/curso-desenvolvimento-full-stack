{
  "cells": [
    {
      "cell_type": "markdown",
      "metadata": {
        "id": "4SnFLzbN-hvL"
      },
      "source": [
        "![logo-estacio.jpg](data:image/jpeg;base64,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)\n",
        "\n",
        "**Campus:** Estácio \n",
        "\n",
        "**Curso:** Desenvolvimento Full Stack\n",
        "\n",
        "**Disciplina:** Vamos iniciar a jornada?\n",
        "\n",
        "**Turma:** 2022.2\n",
        "\n",
        "**Semestre Letivo:** 1\n",
        "\n",
        "**Título da Prática:** Implementar um algoritmo de conversão de um número da base decimal para base binária.\n",
        "\n",
        "**Objetivo da Prática:** Utilizar recursos lógicos da linguagem de programação Python, com comandos iterativos e entrar com qualquer número inteiro positivo na base decimal e o programa deve produzir o número correspondente na base binária."
      ]
    },
    {
      "cell_type": "markdown",
      "metadata": {
        "id": "RsuPE5LPOwCj"
      },
      "source": [
        "**Aluno:** Thayrine Damasceno Rodrigues\n",
        "\n",
        "**GitHub:** https://github.com/thayrinedr\n",
        "\n",
        "**LinkedIn:** https://www.linkedin.com/in/thayrinedr/"
      ]
    },
    {
      "cell_type": "markdown",
      "metadata": {
        "id": "wLIGd5_kUmVI"
      },
      "source": [
        "# 1 Descrição\n",
        "\n",
        "Algoritmo para conversão de um número na base decimal para seu respectivo correspondente na base binária. Implementação na linguagem Python."
      ]
    },
    {
      "cell_type": "markdown",
      "metadata": {
        "id": "c1MgnVUudjCG"
      },
      "source": [
        "# 2 Entrada de dados"
      ]
    },
    {
      "cell_type": "code",
      "execution_count": 1,
      "metadata": {
        "colab": {
          "base_uri": "https://localhost:8080/"
        },
        "id": "VOuAJIekXVnj",
        "outputId": "7b36c297-f888-458a-bc26-0b6e356e4762"
      },
      "outputs": [
        {
          "name": "stdout",
          "output_type": "stream",
          "text": [
            "Número na base decimal: 17\n"
          ]
        }
      ],
      "source": [
        "valor_entrada = input(\"Número na base decimal: \")"
      ]
    },
    {
      "cell_type": "markdown",
      "metadata": {
        "id": "mqNolt78doMs"
      },
      "source": [
        "# 3 Cálculos intermediários"
      ]
    },
    {
      "cell_type": "code",
      "execution_count": 2,
      "metadata": {
        "id": "5FzWTtj2Zesv"
      },
      "outputs": [],
      "source": [
        "dividendo = int(valor_entrada)\n",
        "\n",
        "restos_divisoes = []\n",
        "\n",
        "while dividendo > 0:\n",
        "    resto_divisao = dividendo % 2\n",
        "    inteiro_divisao = dividendo // 2\n",
        "\n",
        "    restos_divisoes.insert(0, str(resto_divisao))\n",
        "\n",
        "    dividendo = inteiro_divisao\n",
        "\n",
        "numero_base_binaria = ''.join(restos_divisoes)"
      ]
    },
    {
      "cell_type": "markdown",
      "metadata": {
        "id": "isGF-RKId0w3"
      },
      "source": [
        "# 4 Apresentação dos resultados"
      ]
    },
    {
      "cell_type": "code",
      "execution_count": 3,
      "metadata": {
        "colab": {
          "base_uri": "https://localhost:8080/"
        },
        "id": "nR6x8OL0d7uh",
        "outputId": "9b7a73b3-8123-4f61-a23c-02069bd5bf5b"
      },
      "outputs": [
        {
          "name": "stdout",
          "output_type": "stream",
          "text": [
            "Conversão para base binária: 10001\n"
          ]
        }
      ],
      "source": [
        "print(f'Conversão para base binária: {numero_base_binaria}')"
      ]
    }
  ],
  "metadata": {
    "colab": {
      "collapsed_sections": [],
      "name": "missao-pratica-n2-dev-full-stack.ipynb",
      "provenance": []
    },
    "kernelspec": {
      "display_name": "Python 3.10.4 64-bit",
      "language": "python",
      "name": "python3"
    },
    "language_info": {
      "name": "python",
      "version": "3.10.4"
    },
    "vscode": {
      "interpreter": {
        "hash": "916dbcbb3f70747c44a77c7bcd40155683ae19c65e1c03b4aa3499c5328201f1"
      }
    }
  },
  "nbformat": 4,
  "nbformat_minor": 0
}
